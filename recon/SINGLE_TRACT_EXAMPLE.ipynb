STATE = "al"
FIPCOUNTY = "073"
FIPTRACT = "005103"
REIDENT = "SINGLE_EXAMPLE"

%run -i "./dbrtool.py" "--reident" "$REIDENT" "--register"

%run -i "./s0_download_data.py" "--reident" "$REIDENT" "$STATE"

%run -i "./dbrtool.py" "--reident" "$REIDENT" "--step1" "--step2" "--stusab" "$STATE"

%run -i "./s3_pandas_synth_lp_files.py" "--reident" "$REIDENT" "$STATE" "$FIPCOUNTY" "$FIPTRACT"

%run -i "./s4_run_gurboi.py" "--reident" "$REIDENT" "$STATE" "$FIPCOUNTY" "$FIPTRACT"

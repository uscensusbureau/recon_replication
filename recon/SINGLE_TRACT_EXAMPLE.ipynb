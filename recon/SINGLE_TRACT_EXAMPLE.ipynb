{
 "cells": [
  {
   "cell_type": "code",
   "execution_count": null,
   "id": "2bc9df77",
   "metadata": {},
   "outputs": [],
   "source": [
    "STATE = \"al\"\n",
    "FIPCOUNTY = \"073\"\n",
    "FIPTRACT = \"005103\"\n",
    "REIDENT = \"SINGLEEXAMPLE\"\n",
    "\n",
    "%run -i \"./dbrtool.py\" \"--reident\" \"$REIDENT\" \"--register\"\n",
    "\n",
    "%run -i \"./s0_download_data.py\" \"--reident\" \"$REIDENT\" \"$STATE\"\n",
    "\n",
    "%run -i \"./dbrtool.py\" \"--reident\" \"$REIDENT\" \"--step1\" \"--step2\" \"--stusab\" \"$STATE\"\n",
    "\n",
    "%run -i \"./s3_pandas_synth_lp_files.py\" \"--reident\" \"$REIDENT\" \"$STATE\" \"$FIPCOUNTY\" \"$FIPTRACT\"\n",
    "\n",
    "%run -i \"./s4_run_gurobi.py\" \"--reident\" \"$REIDENT\" \"$STATE\" \"$FIPCOUNTY\" \"$FIPTRACT\""
   ]
  },
  {
   "cell_type": "code",
   "execution_count": null,
   "id": "d8166ca6",
   "metadata": {},
   "outputs": [],
   "source": []
  }
 ],
 "metadata": {
  "kernelspec": {
   "display_name": "Python 3 (ipykernel)",
   "language": "python",
   "name": "python3"
  },
  "language_info": {
   "codemirror_mode": {
    "name": "ipython",
    "version": 3
   },
   "file_extension": ".py",
   "mimetype": "text/x-python",
   "name": "python",
   "nbconvert_exporter": "python",
   "pygments_lexer": "ipython3",
   "version": "3.8.16"
  }
 },
 "nbformat": 4,
 "nbformat_minor": 5
}
